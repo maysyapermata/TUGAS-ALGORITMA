{
 "cells": [
  {
   "cell_type": "code",
   "execution_count": 1,
   "id": "b31bba03-84f9-4c2a-abed-f35d88cc0ece",
   "metadata": {
    "tags": []
   },
   "outputs": [
    {
     "name": "stdout",
     "output_type": "stream",
     "text": [
      "Matriks Awal:\n",
      "[[ 1  2  3]\n",
      " [ 4  5  6]\n",
      " [ 7  8 10]]\n",
      "\n",
      "Invers Matriks:\n",
      "[[-0.66666667 -1.33333333  1.        ]\n",
      " [-0.66666667  3.66666667 -2.        ]\n",
      " [ 1.         -2.          1.        ]]\n"
     ]
    }
   ],
   "source": [
    "import numpy as np\n",
    "\n",
    "# Matriks yang ingin diinvers\n",
    "matriks = np.array([[1, 2, 3],\n",
    "                    [4, 5, 6],\n",
    "                    [7, 8, 10]])\n",
    "\n",
    "# Menghitung determinan matriks\n",
    "determinan = np.linalg.det(matriks)\n",
    "\n",
    "# Cek apakah determinan tidak sama dengan nol\n",
    "if determinan != 0:\n",
    "    # Menghitung invers matriks\n",
    "    invers_matriks = np.linalg.inv(matriks)\n",
    "    \n",
    "    print(\"Matriks Awal:\")\n",
    "    print(matriks)\n",
    "    print(\"\\nInvers Matriks:\")\n",
    "    print(invers_matriks)\n",
    "else:\n",
    "    print(\"Determinan matriks sama dengan nol, tidak bisa diinvers.\")"
   ]
  }
 ],
 "metadata": {
  "kernelspec": {
   "display_name": "Python 3 (ipykernel)",
   "language": "python",
   "name": "python3"
  },
  "language_info": {
   "codemirror_mode": {
    "name": "ipython",
    "version": 3
   },
   "file_extension": ".py",
   "mimetype": "text/x-python",
   "name": "python",
   "nbconvert_exporter": "python",
   "pygments_lexer": "ipython3",
   "version": "3.11.4"
  }
 },
 "nbformat": 4,
 "nbformat_minor": 5
}
